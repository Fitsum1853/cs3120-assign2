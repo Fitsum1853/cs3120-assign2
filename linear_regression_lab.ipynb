{
  "cells": [
    {
      "cell_type": "markdown",
      "metadata": {
        "id": "FyxmDZ1jItWz"
      },
      "source": [
        "# Assign 2: Linear Regression Lab\n",
        "\n",
        "In this first lab you will fit a linear regression model. You will also dig deeper by 'training' a linear regression model manually in a few different ways.\n",
        "\n",
        "You might be wondering, \"*why all the excitement about linear regression?*\"  It so happens that regression is one of the workhorses of machine learning, and it also underlies other more complex types of models.  The advantage of regression models is that they are highly interpretable and very stable when it comes to training/fitting. In fact, linear regression models, particularly multiple linear regression with many input predictors, can mimic a lot of the power of more complex models, such as neural networks, while maintaining their computational stability and interpretability. There is a long running joke/meme about companies that claim to use \"machine learning\" actually use linear regression (and logistic regression, which we'll soon see more of). This isn't entirely a joke though since even if a company is using very powerful/complex types of models (e.g. deep neural networks), they will almost always have already tried using a linear regression model because it would be the cheaper and faster solution.  In other words, linear regression is almost always the default modeling approach, and is sometimes hard to beat!\n",
        "\n",
        "*Note that this notebook uses some content from a [course at NYU](https://cims.nyu.edu/~brenden/courses/labincp/labs/LabReg-IntroToRegression.html), which itself borrowed content from [General Assembly's Data Science](https://github.com/justmarkham/DAT4) course, which claims to have adapted materials one of the most authoratative texts on the subject, [An Introduction to Statistical Learning](http://www-bcf.usc.edu/~gareth/ISL/).*\n",
        "\n",
        "\n",
        "Next, we would typically load the Python libraries/modules that we'll use. However, these have been commented because we will load each module individually just before we use it, so that we can start to understand which modules does what."
      ]
    },
    {
      "cell_type": "code",
      "execution_count": null,
      "metadata": {
        "id": "bjrEbmNXItW2"
      },
      "outputs": [],
      "source": [
        "#from IPython.core.display import HTML, Markdown #, display\n",
        "#from sklearn import linear_model\n",
        "\n",
        "#import numpy.random as npr\n",
        "#import numpy as np\n",
        "#import pandas as pd\n",
        "#import seaborn as sns\n",
        "#import matplotlib.pyplot as plt\n",
        "#import scipy.stats as stats\n",
        "#import statsmodels.formula.api as smf\n",
        "#import ipywidgets as widgets"
      ]
    },
    {
      "cell_type": "markdown",
      "metadata": {
        "id": "zPAVCb1TItW4"
      },
      "source": [
        "We are going to use the [statsmodels](https://www.statsmodels.org/stable/index.html) python package to fit our regression model because it has a lot of nice outputs which are helpful for interpreting regressions.  However, you could do almost all of the same using the [scikit-learn](https://scikit-learn.org/stable/) package, which is a more general package for machine learning than can perform various types of sophisticated regression, classification, clustering, and dimensionality reduction steps."
      ]
    },
    {
      "cell_type": "markdown",
      "metadata": {
        "id": "mV4mvViXItW5"
      },
      "source": [
        "## Loading the dataset\n",
        "\n",
        "Before training/fitting any model we need data. Below we will load a dataset from the text, [Learning Statistics with R](https://kpu.pressbooks.pub/learningstatistics/). The dataset will help us to explore the factors that lead to a parent being grumpy after having a baby.\n",
        "\n",
        "The data is located in a public github repository but loading will be no different than if it were a local file in our computer. We simply use the link to the file and open it with the [pandas](https://pandas.pydata.org) Python module `read_csv` command.\n",
        "\n",
        "Also, let's look at the first few rows of data. Note that one row can be thought of as one *observation*."
      ]
    },
    {
      "cell_type": "code",
      "execution_count": 1,
      "metadata": {
        "id": "I5Da-nLQItW5",
        "outputId": "a27032aa-0dc5-45ee-a855-2fab90f99bd8",
        "colab": {
          "base_uri": "https://localhost:8080/",
          "height": 206
        }
      },
      "outputs": [
        {
          "output_type": "execute_result",
          "data": {
            "text/plain": [
              "   day  parent_sleep  baby_sleep  parent_grumpy\n",
              "0    1          7.59       10.18             56\n",
              "1    2          7.91       11.66             60\n",
              "2    3          5.14        7.92             82\n",
              "3    4          7.71        9.61             55\n",
              "4    5          6.68        9.75             67"
            ],
            "text/html": [
              "\n",
              "  <div id=\"df-5073de70-f9d3-4e75-a973-e402d56064a4\" class=\"colab-df-container\">\n",
              "    <div>\n",
              "<style scoped>\n",
              "    .dataframe tbody tr th:only-of-type {\n",
              "        vertical-align: middle;\n",
              "    }\n",
              "\n",
              "    .dataframe tbody tr th {\n",
              "        vertical-align: top;\n",
              "    }\n",
              "\n",
              "    .dataframe thead th {\n",
              "        text-align: right;\n",
              "    }\n",
              "</style>\n",
              "<table border=\"1\" class=\"dataframe\">\n",
              "  <thead>\n",
              "    <tr style=\"text-align: right;\">\n",
              "      <th></th>\n",
              "      <th>day</th>\n",
              "      <th>parent_sleep</th>\n",
              "      <th>baby_sleep</th>\n",
              "      <th>parent_grumpy</th>\n",
              "    </tr>\n",
              "  </thead>\n",
              "  <tbody>\n",
              "    <tr>\n",
              "      <th>0</th>\n",
              "      <td>1</td>\n",
              "      <td>7.59</td>\n",
              "      <td>10.18</td>\n",
              "      <td>56</td>\n",
              "    </tr>\n",
              "    <tr>\n",
              "      <th>1</th>\n",
              "      <td>2</td>\n",
              "      <td>7.91</td>\n",
              "      <td>11.66</td>\n",
              "      <td>60</td>\n",
              "    </tr>\n",
              "    <tr>\n",
              "      <th>2</th>\n",
              "      <td>3</td>\n",
              "      <td>5.14</td>\n",
              "      <td>7.92</td>\n",
              "      <td>82</td>\n",
              "    </tr>\n",
              "    <tr>\n",
              "      <th>3</th>\n",
              "      <td>4</td>\n",
              "      <td>7.71</td>\n",
              "      <td>9.61</td>\n",
              "      <td>55</td>\n",
              "    </tr>\n",
              "    <tr>\n",
              "      <th>4</th>\n",
              "      <td>5</td>\n",
              "      <td>6.68</td>\n",
              "      <td>9.75</td>\n",
              "      <td>67</td>\n",
              "    </tr>\n",
              "  </tbody>\n",
              "</table>\n",
              "</div>\n",
              "    <div class=\"colab-df-buttons\">\n",
              "\n",
              "  <div class=\"colab-df-container\">\n",
              "    <button class=\"colab-df-convert\" onclick=\"convertToInteractive('df-5073de70-f9d3-4e75-a973-e402d56064a4')\"\n",
              "            title=\"Convert this dataframe to an interactive table.\"\n",
              "            style=\"display:none;\">\n",
              "\n",
              "  <svg xmlns=\"http://www.w3.org/2000/svg\" height=\"24px\" viewBox=\"0 -960 960 960\">\n",
              "    <path d=\"M120-120v-720h720v720H120Zm60-500h600v-160H180v160Zm220 220h160v-160H400v160Zm0 220h160v-160H400v160ZM180-400h160v-160H180v160Zm440 0h160v-160H620v160ZM180-180h160v-160H180v160Zm440 0h160v-160H620v160Z\"/>\n",
              "  </svg>\n",
              "    </button>\n",
              "\n",
              "  <style>\n",
              "    .colab-df-container {\n",
              "      display:flex;\n",
              "      gap: 12px;\n",
              "    }\n",
              "\n",
              "    .colab-df-convert {\n",
              "      background-color: #E8F0FE;\n",
              "      border: none;\n",
              "      border-radius: 50%;\n",
              "      cursor: pointer;\n",
              "      display: none;\n",
              "      fill: #1967D2;\n",
              "      height: 32px;\n",
              "      padding: 0 0 0 0;\n",
              "      width: 32px;\n",
              "    }\n",
              "\n",
              "    .colab-df-convert:hover {\n",
              "      background-color: #E2EBFA;\n",
              "      box-shadow: 0px 1px 2px rgba(60, 64, 67, 0.3), 0px 1px 3px 1px rgba(60, 64, 67, 0.15);\n",
              "      fill: #174EA6;\n",
              "    }\n",
              "\n",
              "    .colab-df-buttons div {\n",
              "      margin-bottom: 4px;\n",
              "    }\n",
              "\n",
              "    [theme=dark] .colab-df-convert {\n",
              "      background-color: #3B4455;\n",
              "      fill: #D2E3FC;\n",
              "    }\n",
              "\n",
              "    [theme=dark] .colab-df-convert:hover {\n",
              "      background-color: #434B5C;\n",
              "      box-shadow: 0px 1px 3px 1px rgba(0, 0, 0, 0.15);\n",
              "      filter: drop-shadow(0px 1px 2px rgba(0, 0, 0, 0.3));\n",
              "      fill: #FFFFFF;\n",
              "    }\n",
              "  </style>\n",
              "\n",
              "    <script>\n",
              "      const buttonEl =\n",
              "        document.querySelector('#df-5073de70-f9d3-4e75-a973-e402d56064a4 button.colab-df-convert');\n",
              "      buttonEl.style.display =\n",
              "        google.colab.kernel.accessAllowed ? 'block' : 'none';\n",
              "\n",
              "      async function convertToInteractive(key) {\n",
              "        const element = document.querySelector('#df-5073de70-f9d3-4e75-a973-e402d56064a4');\n",
              "        const dataTable =\n",
              "          await google.colab.kernel.invokeFunction('convertToInteractive',\n",
              "                                                    [key], {});\n",
              "        if (!dataTable) return;\n",
              "\n",
              "        const docLinkHtml = 'Like what you see? Visit the ' +\n",
              "          '<a target=\"_blank\" href=https://colab.research.google.com/notebooks/data_table.ipynb>data table notebook</a>'\n",
              "          + ' to learn more about interactive tables.';\n",
              "        element.innerHTML = '';\n",
              "        dataTable['output_type'] = 'display_data';\n",
              "        await google.colab.output.renderOutput(dataTable, element);\n",
              "        const docLink = document.createElement('div');\n",
              "        docLink.innerHTML = docLinkHtml;\n",
              "        element.appendChild(docLink);\n",
              "      }\n",
              "    </script>\n",
              "  </div>\n",
              "\n",
              "\n",
              "<div id=\"df-80a0cf1a-ec71-41a3-a0c7-19f6d925291c\">\n",
              "  <button class=\"colab-df-quickchart\" onclick=\"quickchart('df-80a0cf1a-ec71-41a3-a0c7-19f6d925291c')\"\n",
              "            title=\"Suggest charts\"\n",
              "            style=\"display:none;\">\n",
              "\n",
              "<svg xmlns=\"http://www.w3.org/2000/svg\" height=\"24px\"viewBox=\"0 0 24 24\"\n",
              "     width=\"24px\">\n",
              "    <g>\n",
              "        <path d=\"M19 3H5c-1.1 0-2 .9-2 2v14c0 1.1.9 2 2 2h14c1.1 0 2-.9 2-2V5c0-1.1-.9-2-2-2zM9 17H7v-7h2v7zm4 0h-2V7h2v10zm4 0h-2v-4h2v4z\"/>\n",
              "    </g>\n",
              "</svg>\n",
              "  </button>\n",
              "\n",
              "<style>\n",
              "  .colab-df-quickchart {\n",
              "      --bg-color: #E8F0FE;\n",
              "      --fill-color: #1967D2;\n",
              "      --hover-bg-color: #E2EBFA;\n",
              "      --hover-fill-color: #174EA6;\n",
              "      --disabled-fill-color: #AAA;\n",
              "      --disabled-bg-color: #DDD;\n",
              "  }\n",
              "\n",
              "  [theme=dark] .colab-df-quickchart {\n",
              "      --bg-color: #3B4455;\n",
              "      --fill-color: #D2E3FC;\n",
              "      --hover-bg-color: #434B5C;\n",
              "      --hover-fill-color: #FFFFFF;\n",
              "      --disabled-bg-color: #3B4455;\n",
              "      --disabled-fill-color: #666;\n",
              "  }\n",
              "\n",
              "  .colab-df-quickchart {\n",
              "    background-color: var(--bg-color);\n",
              "    border: none;\n",
              "    border-radius: 50%;\n",
              "    cursor: pointer;\n",
              "    display: none;\n",
              "    fill: var(--fill-color);\n",
              "    height: 32px;\n",
              "    padding: 0;\n",
              "    width: 32px;\n",
              "  }\n",
              "\n",
              "  .colab-df-quickchart:hover {\n",
              "    background-color: var(--hover-bg-color);\n",
              "    box-shadow: 0 1px 2px rgba(60, 64, 67, 0.3), 0 1px 3px 1px rgba(60, 64, 67, 0.15);\n",
              "    fill: var(--button-hover-fill-color);\n",
              "  }\n",
              "\n",
              "  .colab-df-quickchart-complete:disabled,\n",
              "  .colab-df-quickchart-complete:disabled:hover {\n",
              "    background-color: var(--disabled-bg-color);\n",
              "    fill: var(--disabled-fill-color);\n",
              "    box-shadow: none;\n",
              "  }\n",
              "\n",
              "  .colab-df-spinner {\n",
              "    border: 2px solid var(--fill-color);\n",
              "    border-color: transparent;\n",
              "    border-bottom-color: var(--fill-color);\n",
              "    animation:\n",
              "      spin 1s steps(1) infinite;\n",
              "  }\n",
              "\n",
              "  @keyframes spin {\n",
              "    0% {\n",
              "      border-color: transparent;\n",
              "      border-bottom-color: var(--fill-color);\n",
              "      border-left-color: var(--fill-color);\n",
              "    }\n",
              "    20% {\n",
              "      border-color: transparent;\n",
              "      border-left-color: var(--fill-color);\n",
              "      border-top-color: var(--fill-color);\n",
              "    }\n",
              "    30% {\n",
              "      border-color: transparent;\n",
              "      border-left-color: var(--fill-color);\n",
              "      border-top-color: var(--fill-color);\n",
              "      border-right-color: var(--fill-color);\n",
              "    }\n",
              "    40% {\n",
              "      border-color: transparent;\n",
              "      border-right-color: var(--fill-color);\n",
              "      border-top-color: var(--fill-color);\n",
              "    }\n",
              "    60% {\n",
              "      border-color: transparent;\n",
              "      border-right-color: var(--fill-color);\n",
              "    }\n",
              "    80% {\n",
              "      border-color: transparent;\n",
              "      border-right-color: var(--fill-color);\n",
              "      border-bottom-color: var(--fill-color);\n",
              "    }\n",
              "    90% {\n",
              "      border-color: transparent;\n",
              "      border-bottom-color: var(--fill-color);\n",
              "    }\n",
              "  }\n",
              "</style>\n",
              "\n",
              "  <script>\n",
              "    async function quickchart(key) {\n",
              "      const quickchartButtonEl =\n",
              "        document.querySelector('#' + key + ' button');\n",
              "      quickchartButtonEl.disabled = true;  // To prevent multiple clicks.\n",
              "      quickchartButtonEl.classList.add('colab-df-spinner');\n",
              "      try {\n",
              "        const charts = await google.colab.kernel.invokeFunction(\n",
              "            'suggestCharts', [key], {});\n",
              "      } catch (error) {\n",
              "        console.error('Error during call to suggestCharts:', error);\n",
              "      }\n",
              "      quickchartButtonEl.classList.remove('colab-df-spinner');\n",
              "      quickchartButtonEl.classList.add('colab-df-quickchart-complete');\n",
              "    }\n",
              "    (() => {\n",
              "      let quickchartButtonEl =\n",
              "        document.querySelector('#df-80a0cf1a-ec71-41a3-a0c7-19f6d925291c button');\n",
              "      quickchartButtonEl.style.display =\n",
              "        google.colab.kernel.accessAllowed ? 'block' : 'none';\n",
              "    })();\n",
              "  </script>\n",
              "</div>\n",
              "\n",
              "    </div>\n",
              "  </div>\n"
            ],
            "application/vnd.google.colaboratory.intrinsic+json": {
              "type": "dataframe",
              "variable_name": "df",
              "summary": "{\n  \"name\": \"df\",\n  \"rows\": 100,\n  \"fields\": [\n    {\n      \"column\": \"day\",\n      \"properties\": {\n        \"dtype\": \"number\",\n        \"std\": 29,\n        \"min\": 1,\n        \"max\": 100,\n        \"num_unique_values\": 100,\n        \"samples\": [\n          84,\n          54,\n          71\n        ],\n        \"semantic_type\": \"\",\n        \"description\": \"\"\n      }\n    },\n    {\n      \"column\": \"parent_sleep\",\n      \"properties\": {\n        \"dtype\": \"number\",\n        \"std\": 1.0158844283269488,\n        \"min\": 4.84,\n        \"max\": 9.0,\n        \"num_unique_values\": 90,\n        \"samples\": [\n          7.47,\n          6.86,\n          6.22\n        ],\n        \"semantic_type\": \"\",\n        \"description\": \"\"\n      }\n    },\n    {\n      \"column\": \"baby_sleep\",\n      \"properties\": {\n        \"dtype\": \"number\",\n        \"std\": 2.0742318427248527,\n        \"min\": 3.25,\n        \"max\": 12.07,\n        \"num_unique_values\": 88,\n        \"samples\": [\n          9.09,\n          10.18,\n          7.95\n        ],\n        \"semantic_type\": \"\",\n        \"description\": \"\"\n      }\n    },\n    {\n      \"column\": \"parent_grumpy\",\n      \"properties\": {\n        \"dtype\": \"number\",\n        \"std\": 10,\n        \"min\": 41,\n        \"max\": 91,\n        \"num_unique_values\": 37,\n        \"samples\": [\n          59,\n          52,\n          67\n        ],\n        \"semantic_type\": \"\",\n        \"description\": \"\"\n      }\n    }\n  ]\n}"
            }
          },
          "metadata": {},
          "execution_count": 1
        }
      ],
      "source": [
        "import pandas as pd\n",
        "\n",
        "df = pd.read_csv('https://raw.githubusercontent.com/sgeinitz/CS3120/main/lab1_data_parenthood.csv')\n",
        "df.head()"
      ]
    },
    {
      "cell_type": "markdown",
      "metadata": {
        "id": "qJmSBZb2ItW6"
      },
      "source": [
        "For this dataset one observation consists of the following fields or columns:\n",
        "\n",
        "* `day` - the day of the baby's life and the day that the observation was made  \n",
        "* `parent_sleep` - number of hours of sleep the parent had the night before this day\n",
        "* `baby_sleep` - number of hours of sleep the baby had the night before this day\n",
        "* `parent_grumpy` - level of grumpiness of the parent on this day (this will be our `Y`, or what we will want to try to predict)\n",
        "\n",
        "To confirm that information, or if we didnt' know it ahead of time, we could use the pandas dataframe method, `describe`, to see some descriptive statistics for each column."
      ]
    },
    {
      "cell_type": "code",
      "execution_count": null,
      "metadata": {
        "id": "q-1FPn2PItW6"
      },
      "outputs": [],
      "source": [
        "df.describe()"
      ]
    },
    {
      "cell_type": "markdown",
      "metadata": {
        "id": "hyH_zrpfItW7"
      },
      "source": [
        "***\n",
        "### Q1: What does the column `parent_grumpy` look like? What is it's mean? What is it's minimum value? Maximum value? Based on all of that, what do you think the scale of grumpiness is? Is it between 1 and 10? Between -1 and 1?\n",
        "\n",
        "It looks like grumpy is on a scale between 0 and 100\n",
        "***"
      ]
    },
    {
      "cell_type": "markdown",
      "metadata": {
        "id": "H5nN8jJ8ItW9"
      },
      "source": [
        "Next, let's look at if or how the columns are related to one another. There are descriptive statistics that we can calculate to do this but typically it's best to simply look at the data and see what it looks like.\n",
        "\n",
        "We'll use the Python module [seaborn](https://seaborn.pydata.org), which is for plotting and visualizing data."
      ]
    },
    {
      "cell_type": "code",
      "execution_count": 2,
      "metadata": {
        "id": "Mmk6PoRmItW-",
        "outputId": "dbfd34e3-ff83-483a-841d-4991fa0c8c3e",
        "colab": {
          "base_uri": "https://localhost:8080/",
          "height": 466
        }
      },
      "outputs": [
        {
          "output_type": "execute_result",
          "data": {
            "text/plain": [
              "<Axes: xlabel='day', ylabel='parent_grumpy'>"
            ]
          },
          "metadata": {},
          "execution_count": 2
        },
        {
          "output_type": "display_data",
          "data": {
            "text/plain": [
              "<Figure size 640x480 with 1 Axes>"
            ],
            "image/png": "[encoded data removed]"
          },
          "metadata": {}
        }
      ],
      "source": [
        "import seaborn as sns\n",
        "\n",
        "sns.scatterplot(data=df, x='day', y='parent_grumpy')"
      ]
    },
    {
      "cell_type": "markdown",
      "metadata": {
        "id": "FnqWg8rvItW-"
      },
      "source": [
        "***\n",
        "### Q2: Does there appear to be a relationship of any kind between day and how grumpy the parent is? In other words, does a parent's level of grumpiness get better or worse in the first 100 days of baby's life? Is there any type of pattern in how these two variables are related?\n",
        "\n",
        "It is a weak relationship. Can't really tell if it gets better or worse.\n",
        "***"
      ]
    },
    {
      "cell_type": "markdown",
      "metadata": {
        "id": "QRkDkV-zItW_"
      },
      "source": [
        "Next, let's look at the other fields versus a parent's level of grumpiness. Note that we'll now use the other common Python module for plotting and visualization, matplotlib. This module is lower-level than seaborn which allows us to create multiple plots side by side, and manipulate other small details of plots."
      ]
    },
    {
      "cell_type": "code",
      "execution_count": 3,
      "metadata": {
        "id": "Nvb2tLkKItXA",
        "outputId": "bb1bd798-0b90-4c08-a850-9c9b7f720bba",
        "colab": {
          "base_uri": "https://localhost:8080/",
          "height": 388
        }
      },
      "outputs": [
        {
          "output_type": "display_data",
          "data": {
            "text/plain": [
              "<Figure size 1000x400 with 2 Axes>"
            ],
            "image/png": "[encoded data removed]"
          },
          "metadata": {}
        }
      ],
      "source": [
        "import matplotlib.pyplot as plt\n",
        "\n",
        "#fig, (ax1, ax2, ax3) = plt.subplots(1, 3, figsize=(12, 4))\n",
        "fig, (ax1, ax2) = plt.subplots(1, 2, figsize=(10, 4))\n",
        "sns.scatterplot(data=df, x='baby_sleep', y='parent_grumpy', ax=ax1)\n",
        "sns.scatterplot(data=df, x='parent_sleep', y='parent_grumpy', ax=ax2, color='red')\n",
        "#sns.scatterplot(data=df, x='baby_sleep', y='parent_sleep', ax=ax3, color='red')\n",
        "plt.show()"
      ]
    },
    {
      "cell_type": "markdown",
      "metadata": {
        "id": "Ee6fNbB5ItXA"
      },
      "source": [
        "***\n",
        "### Q3: What is the relationship that seems more important here? In other words, which do you think is a more direct cause of a parent being grumpy?\n",
        "\n",
        "There is a stronger relationship between parent_sleep and parents grumpiness. Based on the plot the more a parent sleeps the less grumpy they are. There is also a weak relationship between baby_sleep and parents grumpiness, but not as strong as parent_sleep.\n",
        "\n",
        "***"
      ]
    },
    {
      "cell_type": "markdown",
      "metadata": {
        "id": "bi2QgziQItXB"
      },
      "source": [
        "## Simple Linear Regression\n",
        "\n",
        "There is a lot more that could be discussed about which variable drives what, in what order, etc. For now though, let's go ahead and begin fitting a linear regression. As we've seen, simple linear regression is an approach for predicting a **quantitative response** using a **single feature** (or \"predictor\" or \"input variable\"). It takes the following form:\n",
        "\n",
        "$y = \\beta_0 + \\beta_1x \\quad $ or $ \\quad y = b + w x$\n",
        "\n",
        "What does each term represent?\n",
        "- $y$ is the response\n",
        "- $x$ is the feature\n",
        "- $\\beta_0$ is the y-intercept of the line, which we could also call the **bias** parameter, $b$\n",
        "- $\\beta_1$ is the slope of the line or coefficient for x, which we could also call the **weight** parameter, $w$\n",
        "\n",
        "Together, $\\beta_0$ and $\\beta_1$, or $b$ and $w$ are called the **model coefficients**, or **parameters** of the model. To train or fit the model it must \"learn\" the values of these parameters. Once we've learned these coefficients, we can use the model to make predictions!"
      ]
    },
    {
      "cell_type": "markdown",
      "metadata": {
        "id": "RHi2TpqTItXB"
      },
      "source": [
        "What do you mean by \"learn\"?  Well you are probably more familiar with the phrase \"fit\" meaning we adjust the settings of the model coefficients (aka as parameters) until the line seems like a good summary of the data.  Fitting thus mean adjusting some internal numbers so that the better reflect the underlying data set.  Well when a human (or machine) learns it, it is in some sense of the same thing.  We change the connections of the weights (or parameters) inside our brains to help us better predict our environment.  For instance if your roommate is prone to late night partying and being grumpy the next day you might mentally fit a model to the experiences you have and \"learn\" what features are predictive of them being grumpy.  So basically fitting a linear regression model is the same as doing basic machine learning! Wow!\n",
        "\n",
        "Before we get into using the computer to \"fit\" our data, let's start simple and do things by hand. Try adjusting the sliders below to get to what you think is a good model fit. As mentioned in class, getting roughly half of the points above the line and half below the line is ideally what we want."
      ]
    },
    {
      "cell_type": "code",
      "execution_count": 4,
      "metadata": {
        "id": "ApFCwPZ0ItXB",
        "outputId": "273efa98-0434-456d-da74-85a371b91636",
        "colab": {
          "base_uri": "https://localhost:8080/",
          "height": 606,
          "referenced_widgets": [
            "c2321879a054480ba357c29916b30e5e",
            "9bea2df2cbc24335a119de65aa3c8002",
            "411609b0212c48a1a0e5c9cba597649b",
            "5ea571115b0b4b1489a949d7c8c41e81",
            "7e33b95152e8413f852e95f7872cd2be",
            "2a457f4c6b3244b68e5f58dfeef22694",
            "8134521104e14625ac048eb313c2197d",
            "cf9772b6b2924bacbede5d50b72e7ea7",
            "f195664be9c84a04898c3613b845d70d",
            "df0582e0adac4743bd2b40581810ffb1"
          ]
        }
      },
      "outputs": [
        {
          "output_type": "display_data",
          "data": {
            "text/plain": [
              "interactive(children=(IntSlider(value=0, description='slope', max=20, min=-20), IntSlider(value=50, descriptio…"
            ],
            "application/vnd.jupyter.widget-view+json": {
              "version_major": 2,
              "version_minor": 0,
              "model_id": "c2321879a054480ba357c29916b30e5e"
            }
          },
          "metadata": {}
        }
      ],
      "source": [
        "from IPython.core.display import HTML, Markdown\n",
        "import ipywidgets as widgets\n",
        "import numpy as np\n",
        "\n",
        "@widgets.interact(slope=widgets.IntSlider(min=-20, max=20, step=1, value=0), intercept=widgets.IntSlider(min=0, max=200, step=1, value=50))\n",
        "def plot_grumpiness(slope, intercept):\n",
        "    predict = intercept + slope * df.parent_sleep\n",
        "    resid = df.parent_grumpy - predict\n",
        "    fig, ax = plt.subplots(figsize=(9,6))\n",
        "\n",
        "    x1 = np.linspace(df.parent_sleep.min(), df.parent_sleep.max(), 400)\n",
        "    y1 = intercept + slope * x1\n",
        "\n",
        "    ax.plot(df.parent_sleep, df.parent_grumpy, 'ko', markersize=4)\n",
        "\n",
        "    ax.plot(x1, y1, '-', color='steelblue', linewidth=1)\n",
        "    plt.xlabel(\"dad sleep\")\n",
        "    plt.ylabel(\"dad grumpy level\")\n",
        "\n",
        "    plt.show()\n"
      ]
    },
    {
      "cell_type": "markdown",
      "metadata": {
        "id": "04FbpUxnItXB"
      },
      "source": [
        "If you used the approach of getting half of the points above the line and half below the line, you probably realized that there are several different ways to acheive this - not all of which make sense. That's why we instead think about fitting a regression model as minimizing all **residuals**. A residual is defined as the difference between the the observation $y$ and the prediction $\\hat{y}$.\n",
        "\n",
        "Specifically, the **residual for the $i^{th}$ observation** in the data is defined as:\n",
        "* $y_i - \\hat{y}_i$\n",
        "\n",
        "The next plot shows what are known as the **residuals** between the actual data points (black) and the regression line (blue). As you can see the total amount of red changes depending on how good of a fit your parameter values give you. Use this widget to make your own *guesstimate* of what the values of $\\beta_0$ and $\\beta_1$ should be.\n"
      ]
    },
    {
      "cell_type": "code",
      "execution_count": 5,
      "metadata": {
        "id": "J_Qc-jplItXC",
        "outputId": "7c3b438f-e21d-475b-fb2b-3e8bf07158b6",
        "colab": {
          "base_uri": "https://localhost:8080/",
          "height": 606,
          "referenced_widgets": [
            "6fd91c5ad7bd4b0e97fceaf853eb7cf5",
            "068e95f246c44c9c9a771f55309f4a2a",
            "94a77d15d15b4ba1be20fe7b22acdaf8",
            "150d132ff81341dfaed1781d3c30332c",
            "5d4f5d92e9e140b2b417886309e721fe",
            "7d4821e04412444db7a577e65ccb2c59",
            "fcc6ff41c8c34ba89d72886ac38668fd",
            "4f8553314a164ea099a8445b3823c200",
            "18b4362704454e749452013e86dbdd8d",
            "98b2218049eb4ce68db34c761b891cb2"
          ]
        }
      },
      "outputs": [
        {
          "output_type": "display_data",
          "data": {
            "text/plain": [
              "interactive(children=(IntSlider(value=0, description='slope', max=20, min=-20), IntSlider(value=50, descriptio…"
            ],
            "application/vnd.jupyter.widget-view+json": {
              "version_major": 2,
              "version_minor": 0,
              "model_id": "6fd91c5ad7bd4b0e97fceaf853eb7cf5"
            }
          },
          "metadata": {}
        }
      ],
      "source": [
        "@widgets.interact(slope=widgets.IntSlider(min=-20, max=20, step=1, value=0), intercept=widgets.IntSlider(min=0, max=200, step=1, value=50))\n",
        "def plot_grumpiness(slope, intercept):\n",
        "    predict = intercept+slope*df.parent_sleep\n",
        "    resid = df.parent_grumpy-predict\n",
        "    fig, ax = plt.subplots(figsize=(9,6))\n",
        "\n",
        "    x1 = np.linspace(df.parent_sleep.min(), df.parent_sleep.max(),400)\n",
        "    y1 = intercept+slope*x1\n",
        "\n",
        "    ax.plot(df.parent_sleep, df.parent_grumpy,'ko',markersize=4)\n",
        "    ax.plot(df.parent_sleep, df.parent_grumpy-resid,'o',markersize=4,markeredgecolor='r', markeredgewidth=.4, markerfacecolor='white')\n",
        "\n",
        "    ax.plot(x1,y1,'-',color='blue',linewidth=1)\n",
        "    plt.xlabel(\"dad sleep\")\n",
        "    plt.ylabel(\"dad grumpiness\")\n",
        "\n",
        "    ax.vlines(df.parent_sleep, df.parent_grumpy, df.parent_grumpy-resid,'r',linewidth=0.5)\n",
        "    plt.show()\n",
        "\n"
      ]
    },
    {
      "cell_type": "markdown",
      "metadata": {
        "id": "v1ZN8ZzAItXC"
      },
      "source": [
        "***\n",
        "### Q4: What values of $\\beta_0$ and $\\beta_1$ result in a good model fit? Is the slope positive or negative? Explain why?\n",
        "\n",
        "β0 = 104, β1 = -6. The slope is negative because the more the dad sleeps the less grumpy he will be.\n",
        "\n",
        "***"
      ]
    },
    {
      "cell_type": "markdown",
      "metadata": {
        "id": "4PyVwzv_ItXC"
      },
      "source": [
        "## Estimating Model Coefficients (i.e. \"training\" the model)\n",
        "\n",
        "The mechanics of fitting a line to some data, or \"learning\" the model parameter values, or \"training\" the model is better done using a precise method rather than eyeballing it as you did above. Generally speaking, coefficients are estimated using the **least squares criterion**, which means we will find the line (mathematically) which minimizes the **sum of squared residuals** (or \"sum of squared errors\"). This can be summed up in the following graphic.\n",
        "\n",
        "![toyexample](https://cims.nyu.edu/~brenden/courses/labincp/_images/08_estimating_coefficients.png)\n",
        "\n",
        "In the figure above...\n",
        "- the black dots are the **observed values** of x and y,\n",
        "- the blue line is the **least squares line**,\n",
        "- the red lines are the **residuals**, which are the distances between the observed values and the least squares line.\n",
        "\n",
        "Remember, model parameters in the regression model can be interpreted as follows.\n",
        "- $\\beta_0$ is the **intercept** (the value of $y$ when $x$=0)\n",
        "- $\\beta_1$ is the **slope** (the change in $y$ divided by change in $x$)\n",
        "\n",
        "Here is a graphical depiction of those calculations:\n",
        "\n",
        "![toyexample2](https://cims.nyu.edu/~brenden/courses/labincp/_images/08_slope_intercept.png)\n"
      ]
    },
    {
      "cell_type": "markdown",
      "metadata": {
        "id": "SiEI4gLDItXD"
      },
      "source": [
        "To find the best possible parameter values (i.e. to fit or train the model), we want to minimize the sum of squared errors. Note that since $\\hat{y}$ is a function of $\\beta_0$ and $\\beta_1$, then the sum of squared errors can be stated as a function of them (and then minimized). Namely, we want to minimize the following expression with respect to $\\beta_0$ and $\\beta_1$.\n",
        "\n",
        "* $\\sum_{i=1}^{n} (y_i - (\\beta_0 + \\beta_1 x_i))^2$\n",
        "\n",
        "We could manually calculate the values by minimizing the above, but let's first use the [statmodels](https://www.statsmodels.org/stable/install.html) Python package. See how these numbers compare to the values you found in your *guesstimate* above."
      ]
    },
    {
      "cell_type": "code",
      "execution_count": null,
      "metadata": {
        "id": "Ob0zMskcItXD"
      },
      "outputs": [],
      "source": [
        "import statsmodels.formula.api as smf\n",
        "\n",
        "sm_lm = smf.ols(formula='parent_grumpy ~ parent_sleep', data=df).fit()\n",
        "print(sm_lm.params)"
      ]
    },
    {
      "cell_type": "markdown",
      "metadata": {
        "id": "8Pr6DIpkItXD"
      },
      "source": [
        "A couple of points on how we used `smf` here...\n",
        "* First is that we use the `smf.ols()` function which does an _ordinary least squares_ fit.  This is the type of fit which tries to minimize the sum of the squared residuals.  There are other types of fitting proceedures such as weighted least squares which is used when you expect the variance of the predicted variable to changes with the input predictor as well as its mean value.  We won't worry about those variations of linear regression in this class though.\n",
        "\n",
        "* Second is that we provide the `ols()` function or method with the pandas dataframe we are working with, `df`, and then provide a formula.  The formula expresses our \"_model_\" and is which variables in the data frame we are trying to relate.  Here the formula `parent_grumpy ~ parent_sleep` means that we want to predict `parent_grumpy` values given `parent_sleep` values. So you think of `parent_grumpy` as our \"_y value_\" and `parent_sleep` are our \"_x value_\".\n",
        "\n",
        "\n",
        "Although the **statsmodels** Python module is a powerful and intuitive tool for statistics, and similar to the standard libraries in R, the module that is more common among Data Scientists and Machine Learning practioners is [scikitlearn](https://scikit-learn.org/stable/). We'll use this now. Try to make a note of how the syntax is different between statsmodels and scikitlearn."
      ]
    },
    {
      "cell_type": "code",
      "execution_count": null,
      "metadata": {
        "id": "Ps4QGOj6ItXD"
      },
      "outputs": [],
      "source": [
        "from sklearn import linear_model\n",
        "\n",
        "lm = linear_model.LinearRegression()\n",
        "lm.fit(df[['parent_sleep']], df['parent_grumpy'])\n",
        "print(lm.coef_, lm.intercept_)"
      ]
    },
    {
      "cell_type": "markdown",
      "metadata": {
        "id": "YAzJQCxMItXE"
      },
      "source": [
        "It's easy to see that the values of the parameters for both models are the same, but notice the small diffences in the names of usage of them. The **statsmodel** model gives us all of the parameters in attribute `lm.params`.\n",
        "\n",
        "With `scikitlearn`, or `sklearn` above, the model has different attributes for each parameter, `lm.coef_`, `lm.intercept`. Note that `lm.coef` itself is a list though, so if our model was going to have other predictors, i.e. other X variables or inputs, then they would be added to the list, `lm.coef`."
      ]
    },
    {
      "cell_type": "markdown",
      "metadata": {
        "id": "1WtBXunmItXE"
      },
      "source": [
        "## Interpreting the Model\n",
        "\n",
        "One of the biggest advantages of ordinary least squares regression is that it is highly interpretable. By this, we mean to say that it's possible to look at the model parameter values and directly draw some conclusion or interpretion from it.\n",
        "\n",
        "That is, we can directly interpret the `slope` or `weight` parameter associated with `parent_sleep`, according to its value. In this case, with a value of `-8.9`, we can say:\n",
        "\n",
        "- A one \"unit\" increase in hours of sleep is associated with a -8.9367 \"unit\" decrease (because it is negative) in grumpiness. This should kind of make sense once you think about it too, i.e. more sleep = less grumpy!\n",
        "\n",
        "The other parameter in our model, the `intercept` or `bias` term, tells us what the model would predict if `X`, or `parent_sleep` in this case, were zero (0). (You can sort understand why it is referred to a bias term also, since it's the value you would get if you didn't have any information, so it's sort of a presupposed value, or bias.)\n",
        "If `parent_sleep` is zero, then `pare\n",
        "nt_grumpy` would be predicted to be 125.95. This means that if a parent gets no sleep at all their grumpiness will be at a very high level of 125.95!  Bad news."
      ]
    },
    {
      "cell_type": "markdown",
      "metadata": {
        "id": "2UL9SD_fItXE"
      },
      "source": [
        "***\n",
        "### Q5: Suppose that the _grumpiness_ scale is between 0 and 100. How would you explain or justify the prediction the model would make if a parent did not sleep at all the night before? Or, if they slept only one hour? What does this say about the model, is it a \"good\" or \"bad\" model?\n",
        "\n",
        "\\<input your answer here - and explain \\>\n",
        "\n",
        "***\n",
        "\n",
        "Note that this question is related to a famous saying in Statistics, which is \"*All models are wrong, but some are useful*\". This essentially says that every model has limitations, or is incorrect in some way, but can still make sense and yield useful results when used in the appropriate setting.\n",
        "\n",
        "![image](https://miro.medium.com/v2/resize:fit:1400/1*EJZZKiXLcbp_MxRW9HJrmA.jpeg)"
      ]
    },
    {
      "cell_type": "markdown",
      "metadata": {
        "id": "sqhU-xljItXE"
      },
      "source": [
        "## Using the Model for Prediction\n",
        "\n",
        "Once the model has been fit or trained with the training data, we can now use it for predictions. In other words, with just the following equation it is possible to make a prediction for any new value of `x`, i.e. `parent_sleep`.\n",
        "$$y = 125.956292 + -8.936756 \\times x$$"
      ]
    },
    {
      "cell_type": "markdown",
      "metadata": {
        "id": "5V4a69LCItXE"
      },
      "source": [
        "***\n",
        "\n",
        "### Q5: Using only the trained model the parent now wants to make a prediction for tomorrow. Everything is going smooth so they antipicate getting a good night of sleep, or around `8.5` hours of sleep. What will their predicted level of grumpiness be tomorrow?\n",
        "\n",
        "\\<modify the following code cell to find your answer then input your answer here\\>\n",
        "\n",
        "***"
      ]
    },
    {
      "cell_type": "code",
      "execution_count": null,
      "metadata": {
        "id": "vhO_fx99ItXF"
      },
      "outputs": [],
      "source": [
        "hours_of_sleep =\n",
        "X_new = pd.DataFrame({'parent_sleep': [hours_of_sleep]})\n",
        "lm.predict(X_new)"
      ]
    },
    {
      "cell_type": "markdown",
      "metadata": {
        "id": "oGgJdGONItXF"
      },
      "source": [
        "## Plotting the least squares regression line\n",
        "\n",
        "Let's take a look at the best fit line.  There are two very easy ways to do this.  One is using seaborn's regplot which takes care of all of the underlying steps to plot the regression line."
      ]
    },
    {
      "cell_type": "code",
      "execution_count": null,
      "metadata": {
        "id": "VsVlIGz4ItXF"
      },
      "outputs": [],
      "source": [
        "sns.regplot(x='parent_sleep', y='parent_grumpy', data=df)"
      ]
    },
    {
      "cell_type": "markdown",
      "metadata": {
        "id": "1lAmlKWnItXF"
      },
      "source": [
        "Alternatively, if we want more control over the plot, or want to make other modifications, then using matplotlib is often going to be preferred."
      ]
    },
    {
      "cell_type": "code",
      "execution_count": null,
      "metadata": {
        "id": "gBmXQgzNItXF"
      },
      "outputs": [],
      "source": [
        "fig, ax = plt.subplots(figsize=(6.5,4))\n",
        "\n",
        "# create a DataFrame with the minimum and maximum values of sleep\n",
        "x1 = pd.DataFrame({'parent_sleep': [df.parent_sleep.min(), df.parent_sleep.max()]})\n",
        "y1 = lm.predict(x1)  # predict for the two data points using the fitted model in lm\n",
        "ax.plot(df.parent_sleep, df.parent_grumpy, 'ko', markersize=4)\n",
        "ax.plot(x1, y1, '-', color='steelblue', linewidth=1)\n",
        "plt.xlabel(\"parent_sleep\")\n",
        "plt.ylabel(\"parent_grumpy\")\n",
        "plt.show()"
      ]
    },
    {
      "cell_type": "markdown",
      "metadata": {
        "id": "kvJgqEA3ItXG"
      },
      "source": [
        "## Confidence in our Model\n",
        "\n",
        "As mentioned before, the **statsmodels** library offers some convience for more traditional statistics questions or tasks. One of those is getting an idea of how confident we are about the estimated values of the parameters. Looking at the confidence intervals for the parameter value estimates gives us a decent idea of whether the model fits this data reasonably well. Below we look at the 95% confidence interval, or the $(1-\\alpha)$% confidence interval.\n",
        "\n",
        "As you can see, although there is a range of possible values, the range is reasonably small, telling us that there is a high level of confidence these parameter values estimates are yielding a model that fits the data reasonably well. We have to be careful not to misinterpret this though, remember that the precise intrepretation of the confidence interval is...\n",
        "\n",
        "* If the population from which this sample was drawn was **sampled 100 times**, approximately **95 of those confidence intervals** would contain the \"true\" coefficient."
      ]
    },
    {
      "cell_type": "code",
      "execution_count": null,
      "metadata": {
        "id": "5pmv2_UeItXG"
      },
      "outputs": [],
      "source": [
        "# print the confidence intervals for the model coefficients\n",
        "sm_lm.conf_int(alpha=0.05)"
      ]
    },
    {
      "cell_type": "markdown",
      "metadata": {
        "id": "UsCvBjoLItXG"
      },
      "source": [
        "Since the **sklearn** package tends to take more of a machine learning approach it does not have some of the same functionality as statsmodels. However, with a few more steps, it is possible to calculate. It's possible though, and you should verify that the confidence intervals are the same as above."
      ]
    },
    {
      "cell_type": "code",
      "execution_count": null,
      "metadata": {
        "id": "WL4YLwO_ItXG"
      },
      "outputs": [],
      "source": [
        "# needs the stats module for getting appropriate t-values\n",
        "from scipy import stats\n",
        "\n",
        "def get_conf_int(alpha, lr, X, y):\n",
        "    coefs = np.r_[[lr.intercept_], lr.coef_]\n",
        "    X_aux = X.copy()\n",
        "    X_aux.insert(0, 'const', 1)\n",
        "    dof = -np.diff(X_aux.shape)[0]\n",
        "    mse = np.sum((y - lr.predict(X)) ** 2) / dof\n",
        "    var_params = np.diag(np.linalg.inv(X_aux.T.dot(X_aux)))\n",
        "    t_val = stats.t.isf(alpha/2, dof)\n",
        "    gap = t_val * np.sqrt(mse * var_params)\n",
        "\n",
        "    return pd.DataFrame({\n",
        "        'lower': coefs - gap, 'upper': coefs + gap\n",
        "    }, index=X_aux.columns)\n",
        "\n",
        "get_conf_int(0.05, lm, df[['parent_sleep']], df['parent_grumpy'])"
      ]
    },
    {
      "cell_type": "code",
      "execution_count": null,
      "metadata": {
        "id": "66P6rP3aItXM"
      },
      "outputs": [],
      "source": [
        "np.diff(df.shape)"
      ]
    },
    {
      "cell_type": "markdown",
      "metadata": {
        "id": "DoWVadMKItXM"
      },
      "source": [
        "Again, remember that we only have a **single sample of data**, and not the **entire population of data**. The \"true\" coefficient is either within this interval or it isn't, but there's no way to actually know. We estimate the coefficient with the data we do have, and we show uncertainty about that estimate by giving a range that the coefficient is **probably** within.\n",
        "\n",
        "Also note that using 95% confidence intervals is just a convention. We could create 90% confidence intervals (which will be more narrow), or 99% confidence intervals (which will be wider), or whatever intervals we think make the most sense for our analysis/task."
      ]
    },
    {
      "cell_type": "markdown",
      "metadata": {
        "id": "FPe7_bTuItXM"
      },
      "source": [
        "## Hypothesis Testing and p-values\n",
        "\n",
        "Closely related to confidence intervals is **hypothesis testing**. Generally speaking, we start with a **null hypothesis** and an **alternative hypothesis** (that is opposite the null). Then, we check whether the data supports **rejecting the null hypothesis** or **failing to reject the null hypothesis**.\n",
        "\n",
        "(Note that \"failing to reject\" the null is not the same as \"accepting\" the null hypothesis. The alternative hypothesis may indeed be true, except that we just don't have enough data to show that.)\n",
        "\n",
        "As it relates to model coefficients, here is the conventional hypothesis test:\n",
        "- **null hypothesis:** There is no relationship between dad sleep and grumpiness (and thus $\\beta_1$ equals zero)\n",
        "- **alternative hypothesis:** There is a relationship between dad sleep and dad grumpinss (and thus $\\beta_1$ is not equal to zero)"
      ]
    },
    {
      "cell_type": "code",
      "execution_count": null,
      "metadata": {
        "id": "8wfOB1T0ItXN"
      },
      "outputs": [],
      "source": [
        "# print the p-values for the model coefficients\n",
        "sm_lm.pvalues"
      ]
    },
    {
      "cell_type": "markdown",
      "metadata": {
        "id": "z5DJmxf1ItXN"
      },
      "source": [
        "How do we test this hypothesis? Intuitively, we reject the null (and thus believe the alternative) if the 95% confidence interval **does not include zero**. That is generally much easier to intrepret than the p-value, which strictly speaking should be interpreted as follows:\n",
        "* If the null hypothesis is true, then the p-value is probability of observing the data that we did (and thus getting the model parameters that we did).\n",
        "\n",
        "In this case, since the the p-values are both so small, we can likely safely reject the null hypothesis in favor of the alternative.\n",
        "\n",
        "Note that we generally ignore the p-value for the intercept. So, focusing only on the model parameter associated with `parent_sleep`, and seeing a p-value far less than 0.05, we can conclude that there is a relationship between sleep and grumpiness."
      ]
    },
    {
      "cell_type": "markdown",
      "metadata": {
        "id": "CnCVPMOuItXN"
      },
      "source": [
        "## How Well Does the Model Fit the data?\n",
        "\n",
        "The most common way to evaluate the overall fit of a linear model is by the **R-squared** value. R-squared is calculated in such a way that it has the direct intrepretation of being the **proportion of variance explained**, meaning the proportion of variance in the observed data that is explained by the model, or the reduction in error over the **null model**. (The null model just predicts the mean of the observed response, and thus it has an intercept and no slope.)\n",
        "\n",
        "R-squared is between 0 and 1, and higher is better because it means that more variance is explained by the model. Here's an example of what R-squared might be for different models fit to the same dataset (but a different data than our parenthood data).\n",
        "\n",
        "![polyfits](https://github.com/sgeinitz/CS3120/blob/main/images/poly_fits.png?raw=true)\n",
        "\n",
        "You can see that the **blue line** explains some of the variance in the data (R-squared=0.54), the **green line** explains more of the variance (R-squared=0.64), and the **red line** fits the training data even further (R-squared=0.66). (No need to think about this too hard right now, but which of those possible"
      ]
    },
    {
      "cell_type": "markdown",
      "metadata": {
        "id": "VDmDfntCItXO"
      },
      "source": [
        "Getting back to our parenthood datset, let's now calculate the R-squared value for our simple linear model."
      ]
    },
    {
      "cell_type": "code",
      "execution_count": null,
      "metadata": {
        "id": "SqdeaLNwItXO"
      },
      "outputs": [],
      "source": [
        "sm_lm.rsquared"
      ]
    },
    {
      "cell_type": "markdown",
      "metadata": {
        "id": "iAw8CGcJItXO"
      },
      "source": [
        "It's difficult to say what \"_good_\" R-squared value is. The threshold for a good R-squared value will depend widely on the domain and data. Therefore, it's most useful as a tool for **comparing different models**, rather than as saying that a single model is \"_good_\"."
      ]
    },
    {
      "cell_type": "markdown",
      "metadata": {
        "id": "RRKrA14pItXO"
      },
      "source": [
        "Up until now we have been pulling information from the fitted model piece by piece. However, there is a nice summary command with **statsmodels** that lets you access a bunch of information about your regression at once. Don't worry about all of the other statistics and details listed there, just know that almost all of the information you'll ever need about a linear regression model can be found there."
      ]
    },
    {
      "cell_type": "code",
      "execution_count": null,
      "metadata": {
        "id": "pJxQXMq1ItXO"
      },
      "outputs": [],
      "source": [
        "sm_lm.summary()"
      ]
    },
    {
      "cell_type": "markdown",
      "metadata": {
        "id": "DHTwCrBQItXO"
      },
      "source": [
        "## Training a Linear Regression Manually\n",
        "\n",
        "We saw how easy it is to use Python to fit (i.e. train) a linear regression model. Let's go ahead and confirm that the manual approaches we've seen, and the intuition behind them also make sense.\n",
        "\n",
        "Most often we'll see a linear regression defined for one $i^{th}$ observation or training example. Which, for the feature $x_i$ and outcome $y_i$, is written as:\n",
        "$$y_i = \\beta_0 1 + \\beta_1 x_i$$\n",
        "\n",
        "However, we also saw that this can be written in vector or matrix notation where the matrix, $X$, has a column of 1's in it.\n",
        "$$\\vec{y} = X \\vec{\\beta}$$\n",
        "where\n",
        "$$\\vec{\\beta} = \\begin{bmatrix}\\beta_0 \\\\ \\beta_1\\end{bmatrix}$$\n",
        "Then, since (or if) the columns of the matrix $X$ are linearly independent, then the matrix $(X^T X)$ has an inverse, and the model parameters can be calculated directly using:\n",
        "$$\\vec{\\beta} = (X^T X)^{-1} X^T \\vec{y}$$\n",
        "\n",
        "Let's now confirm this works using the parenthood data. We'll first create the matrix $X$, being sure to add a $1$ column since that is needed to estimate $\\beta_0$.\n",
        ""
      ]
    },
    {
      "cell_type": "code",
      "execution_count": null,
      "metadata": {
        "id": "YU0eZ4n9ItXP"
      },
      "outputs": [],
      "source": [
        "X = pd.DataFrame({'intercept': 1, 'parent_sleep': df.parent_sleep})\n",
        "X.head(n=3)"
      ]
    },
    {
      "cell_type": "markdown",
      "metadata": {
        "id": "tmWq-shdItXP"
      },
      "source": [
        "Let's now do all of the remaining calculations, one step at a time."
      ]
    },
    {
      "cell_type": "code",
      "execution_count": null,
      "metadata": {
        "id": "e3WO1WXZItXP"
      },
      "outputs": [],
      "source": [
        "# Calculate X^T X\n",
        "XtX = np.dot(X.T, X)\n",
        "\n",
        "# Then the inverse of X^T X\n",
        "XtX_inv = np.linalg.inv(XtX)\n",
        "\n",
        "# Then X^T y\n",
        "Xty = np.dot(X.T, df.parent_grumpy)\n",
        "\n",
        "# And lastly the coefficients\n",
        "betas = np.dot(XtX_inv, Xty)\n",
        "betas"
      ]
    },
    {
      "cell_type": "markdown",
      "metadata": {
        "id": "mBJuEijZItXQ"
      },
      "source": [
        "While the linear algebra approach is useful for understanding the underlying math from another point of view, it not immediately intuitive why it works. The following diagram is maybe the best attempt at trying to explain the intuition behind this linear algebra approach.\n",
        "\n",
        "![projection](https://github.com/sgeinitz/CS3120/blob/main/images/projection.png?raw=true)\n",
        "\n",
        "That image is telling us that the any prediction coming out of our model is going to be in the column space of $X$ (i.e. it will lay in a space that spanned by all possible linear combinations of the columns of $X$.) It is not super important that you know this, but it's a fun alternative way to see how linear regression models are fit to their data.\n",
        "\n",
        "The more intuitive way to explain how we fit a linear regression model is by looking more precisely at that quantity we want to minimize, namely the SSE:\n",
        "$$\\text{SSE} = \\sum_{i=1}^{n} (y_i - \\hat{y}_i)^2$$\n",
        "\n",
        "Recall that since $\\hat{y}_i$ is a the prediction for the $i^{th}$ observation, we can write it as $\\beta_0 + \\beta_1 x_i$, and thus rewrite SSE as:\n",
        "$$\\text{SSE} = \\sum_{i=1}^{n} \\left(y_i - (\\beta_0 + \\beta_1 x_i)\\right)^2$$\n",
        "\n",
        "Since there are two parameters, $\\beta_0, \\beta_1$, it's easy for us to visualize what the SSE looks like as a function of these two parameters. Below is a heatmap or surface plot of these. Again, to train the model we need to find the model parameter values that minimize SSE. Look at the plot below to see if you can roughly guess what the parameter values are."
      ]
    },
    {
      "cell_type": "code",
      "execution_count": null,
      "metadata": {
        "id": "23EI4VjOItXQ"
      },
      "outputs": [],
      "source": [
        "beta0_range = 25\n",
        "beta0 = np.arange(lm.intercept_+beta0_range, lm.intercept_-beta0_range, -0.5)\n",
        "beta1_range = 4\n",
        "beta1 = np.arange(lm.coef_[0]-beta1_range, lm.coef_[0]+beta1_range, 0.1)\n",
        "surf = np.array( [[np.square(df.parent_grumpy - (beta0[i] + beta1[j]*df.parent_sleep)).sum() for j in range(len(beta1))] for i in range(len(beta0))] )\n",
        "df_surf = pd.DataFrame(surf, columns=beta1, index=beta0)\n",
        "\n",
        "fig, ax = plt.subplots(figsize=(10, 8))\n",
        "sns.heatmap(df_surf, cbar_kws={'label': 'SSE'}, cmap=\"RdYlGn_r\", ax=ax)\n",
        "ax.contour(np.arange(.5, df_surf.shape[1]), np.arange(.5, df_surf.shape[0]), df_surf, colors='black', levels=[1960, 9000, 50000, 150000], linewidths=0.5)\n",
        "\n",
        "plt.xlabel(\"beta1\")\n",
        "plt.ylabel(\"beta0\")\n",
        "plt.show()\n"
      ]
    },
    {
      "cell_type": "markdown",
      "metadata": {
        "id": "bdgDkEe8ItXR"
      },
      "source": [
        "You probably already figured out how to find the parameter values above, which is to look at the values of $beta_0$ and $\\beta_1$ that corresponded to the lowest point on the surface. We can look the data used in the plot and see here."
      ]
    },
    {
      "cell_type": "code",
      "execution_count": null,
      "metadata": {
        "id": "Qd0bLWwRItXR"
      },
      "outputs": [],
      "source": [
        "# find the minimum of the surface\n",
        "beta0_min, beta1_min = np.unravel_index(surf.argmin(), surf.shape)\n",
        "beta0[beta0_min], beta1[beta1_min]"
      ]
    },
    {
      "cell_type": "markdown",
      "metadata": {
        "id": "ePakVaj4ItXR"
      },
      "source": [
        "Notice that those values are nearly exactly what we found using **statsmodels**, **sklearn**, as well as the linear algebra approach. Let's try one more way of finding these parameter values now. For this we'll use calculus to solve for values of $\\beta_0$ and $\\beta_1$ that give us the minimum on the surface above (i.e. the value where the slope of the surface is zero).\n",
        "\n",
        "If you recall from Calculus class, we simply need to write the SSE as a function of the model parameters, $\\beta_0$, $\\beta_1$, and set it to zero, then solve. It's not important that you know how to do this exactly, but it's important to know that this is yet another way to think about \"_training_\" a linear regression model. Let's first explicitly state that the SSE is a function of the model parameters:\n",
        "$$\\text{SSE}(\\beta_0, \\beta_1) = \\sum_{i=1}^{n} \\left( y_i - (\\beta_0 + \\beta_1 x_i) \\right)^2$$\n"
      ]
    },
    {
      "cell_type": "markdown",
      "metadata": {
        "id": "zAZKT_aHItXS"
      },
      "source": [
        "Steps to Solve for $\\beta_0$ and $\\beta_1$ Using Calculus\n",
        "\n",
        "1. Partial Derivatives\n",
        "   - To minimize SSE, take the partial derivatives of SSE with respect to $\\beta_0$ and $\\beta_1$, and set them equal to zero.\n",
        "\n",
        "   Partial Derivative with respect to $\\beta_0$:\n",
        "   $$\\frac{\\partial \\text{SSE}}{\\partial \\beta_0} = \\sum_{i=1}^{n} -2 \\cdot \\left( y_i - \\beta_0 - \\beta_1 \\cdot x_i \\right) = 0$$\n",
        "\n",
        "   Partial Derivative with respect to $\\beta_1$:\n",
        "   $$\\frac{\\partial \\text{SSE}}{\\partial \\beta_1} = \\sum_{i=1}^{n} -2 \\cdot x_i \\cdot \\left( y_i - \\beta_0 - \\beta_1 \\cdot x_i \\right) = 0$$\n",
        "\n",
        "2. Simplify the Equations\n",
        "   - Simplify the partial derivative equations to form two normal equations.\n",
        "\n",
        "   For $\\beta_0$:\n",
        "   $$\\sum_{i=1}^{n} \\left( y_i - \\beta_0 - \\beta_1 \\cdot x_i \\right) = 0$$\n",
        "   - Expanding and beginning to isolate $\\beta_0$, we get:\n",
        "   $$\\sum_{i=1}^{n} y_i - n \\cdot \\beta_0 + \\beta_1 \\sum_{i=1}^{n} x_i = 0 \\quad \\rightarrow \\quad n \\cdot \\beta_0 = \\sum_{i=1}^{n} y_i -\\beta_1 \\cdot \\sum_{i=1}^{n} x_i $$\n",
        "   - Divide by $n$ to get:\n",
        "   $$\\beta_0 = \\bar{y} - \\beta_1 \\cdot \\bar{x}$$\n",
        "   where $\\bar{y} = \\frac{1}{n} \\sum_{i=1}^{n} y_i$ and $\\bar{x} = \\frac{1}{n} \\sum_{i=1}^{n} x_i$ are the means of $y$ and $x$, respectively.\n",
        "\n",
        "   For $\\beta_1$:\n",
        "   $$\\sum_{i=1}^{n} x_i \\cdot y_i = \\beta_0 \\cdot \\sum_{i=1}^{n} x_i + \\beta_1 \\cdot \\sum_{i=1}^{n} x_i^2$$\n",
        "   - Substitute $\\beta_0 = \\bar{y} - \\beta_1 \\cdot \\bar{x}$ into this equation:\n",
        "   $$\\sum_{i=1}^{n} x_i \\cdot y_i = (\\bar{y} - \\beta_1 \\cdot \\bar{x}) \\cdot \\sum_{i=1}^{n} x_i + \\beta_1 \\cdot \\sum_{i=1}^{n} x_i^2$$\n",
        "   - After expanding and simplifying:\n",
        "   $$\\beta_1 = \\frac{\\sum_{i=1}^{n} \\left( x_i - \\bar{x} \\right) \\left( y_i - \\bar{y} \\right)}{\\sum_{i=1}^{n} \\left( x_i - \\bar{x} \\right)^2}$$\n",
        "\n",
        "Let's now use these formulas to \"train\" the model (i.e. calculate the values of the parameters $\\beta_0$, $\\beta_1$) for our given training dataset.\n"
      ]
    },
    {
      "cell_type": "code",
      "execution_count": null,
      "metadata": {
        "id": "xFzHBh8OItXS"
      },
      "outputs": [],
      "source": [
        "n = df.shape[0] # this is the number of observations or training examples\n",
        "b1_numerator = np.sum((df.parent_grumpy - df.parent_grumpy.mean()) * (df.parent_sleep - df.parent_sleep.mean()))\n",
        "b1_denominator = np.sum((df.parent_sleep - df.parent_sleep.mean()) ** 2)\n",
        "beta1_hat = b1_numerator / b1_denominator\n",
        "\n",
        "beta0_hat = df.parent_grumpy.mean() - beta1_hat * df.parent_sleep.mean()\n",
        "(beta0_hat, beta1_hat)"
      ]
    },
    {
      "cell_type": "markdown",
      "metadata": {
        "id": "C5u1zDJ9ItXS"
      },
      "source": [
        "As you can see, those values are the exact same as we found earlier. You may have noticed that the formulas we found for $\\beta_0$ and $\\beta_1$ above contain some terms that look similar to variance and covariance calculations. Given that, we could also calculate these values in a more concise manner using **numpy's** functions for these descriptive statistics."
      ]
    },
    {
      "cell_type": "code",
      "execution_count": null,
      "metadata": {
        "id": "vxllcVfpItXT"
      },
      "outputs": [],
      "source": [
        "cov = np.cov(df.parent_sleep, df.parent_grumpy, ddof=0) # calculate the covariance of x=df.parent_sleep and y=df.parent_grumpy\n",
        "var_x = np.var(df.parent_sleep, ddof=0) # calculate the variance of x=df.parent_sleep\n",
        "\n",
        "beta1_hat = cov[0,1] / var_x\n",
        "beta0_hat = df.parent_grumpy.mean() - beta1_hat * df.parent_sleep.mean()\n",
        "(beta0_hat, beta1_hat)"
      ]
    },
    {
      "cell_type": "markdown",
      "metadata": {
        "id": "4Mc6TCqkItXT"
      },
      "source": [
        "Hopefully it is somewhat satisfying to see that regardless of the approach we used, we still come up with the same model fit (i.e. the model parameters have the same values). We won't look at them here, but there are even more ways to state these formulas, including with the correlation between $x$ and $y$.\n",
        "\n",
        "Next, let's assume that when the data was collected, the amount of sleep a parent had was recorded in minuts. The cell below creates this column, `parent_sleep_minutes`. Use this for the following question."
      ]
    },
    {
      "cell_type": "code",
      "execution_count": null,
      "metadata": {
        "id": "OQK3sNr4ItXT"
      },
      "outputs": [],
      "source": [
        "df['parent_sleep_minutes'] = df['parent_sleep']*60\n",
        "df.parent_sleep_minutes.describe()"
      ]
    },
    {
      "cell_type": "markdown",
      "metadata": {
        "id": "YwC6UsJAItXU"
      },
      "source": [
        " ***\n",
        "\n",
        " ### Q6: Fit a new linear regression model with **statsmodels** where `parent_sleep_minutes` is used to predict `parent_grumpy`. Does this affect the model parameter estimates? Are they the same? Or different?\n",
        "\n",
        " \\<modify the code in the cell below and modify it to fit the linear regression model and retrieve the model summary. Then input your here - be sure to state what the grumpiness value the model predicted\\>\n",
        "\n",
        " ***"
      ]
    },
    {
      "cell_type": "code",
      "execution_count": null,
      "metadata": {
        "id": "JAHmZZr0ItXU"
      },
      "outputs": [],
      "source": [
        "sm_lm_min = smf.ols(formula=' ~ ', data=df).fit()\n",
        "sm_lm_min.params"
      ]
    },
    {
      "cell_type": "markdown",
      "metadata": {
        "id": "ocFYf2dUItXU"
      },
      "source": [
        "***\n",
        "\n",
        "### Q7: Does having `parent_sleep` measured in different units affect how well the model fits the data? In other words, is the $R^2$ different from when `parent_sleep` was measured in hours? Also, are the p-values associated with $\\beta_0$, $\\beta_1$ different? What does this tell you about how linear regression models are affected by a variable being scaled?\n",
        "\n",
        "\\<insert a code cell below then use `sm_lm_min.summary()` to retrieve the model summary and then input your answer here\\>\n",
        "\n",
        "***"
      ]
    },
    {
      "cell_type": "markdown",
      "metadata": {
        "id": "a0nb-Mr0ItXU"
      },
      "source": [
        "### Multiple Linear Regression\n",
        "\n",
        "What we've looked at so far is commonly referred to as *Simple Linear Regression*, which is when there is one *predictor* (or *feature* or *independent variable*), $x$, and we are trying to predict the *outcome* or *response* or *dependent variable*, $y$. Linear Regression is a powerful and commonly used tool though, so you can imagine that it's not too difficult to add more predictors. Below is an example where we'll try fitting a *Multiple linear Regression* model, which is a linear regression model with more two or more *predictors* (or *features* or *independent variables*).\n",
        "\n",
        "The dataset is a (hypothetical) company's advertising spend and sales they have made for each day. There are four columns in the data:\n",
        "* `tv` - amount of money spent on television advertising last week\n",
        "* `radio` - amount of money spent on radio advertising last week\n",
        "* `newspaper` - amount of money spent on newpaper advertising last week\n",
        "* `sales` - number of widgets (in thousands) the company sold last week"
      ]
    },
    {
      "cell_type": "code",
      "execution_count": null,
      "metadata": {
        "id": "1bz5GNqZItXV"
      },
      "outputs": [],
      "source": [
        "df_adv = pd.read_csv('https://raw.githubusercontent.com/sgeinitz/CS3120/main/lab1_data_advertising.csv')\n",
        "df_adv.head()"
      ]
    },
    {
      "cell_type": "markdown",
      "metadata": {
        "id": "l0Tg6vhgItXV"
      },
      "source": [
        "Let's also get a quick idea of what the data looks like in terms of min, max, mean, etc."
      ]
    },
    {
      "cell_type": "code",
      "execution_count": null,
      "metadata": {
        "id": "oxwjoAJgItXV"
      },
      "outputs": [],
      "source": [
        "df_adv.describe()"
      ]
    },
    {
      "cell_type": "markdown",
      "metadata": {
        "id": "GH7ff45WItXV"
      },
      "source": [
        "***\n",
        "\n",
        " ### Q8: As we said, any data analysis or modeling task first requires looking at or visualizing the data. Plot the each of the independent variables (`tv`, `radio`, `newspaper`) against the dependent variable, `sales`. Then state which of them you think looks like it going to best predict `sales`.\n",
        "\n",
        "\\<modify the code cell below (the first is done for you) and then input your answer here\\>\n",
        "\n",
        "***\n",
        "\n",
        "If you can, try to put all of the plots together in a single figure."
      ]
    },
    {
      "cell_type": "code",
      "execution_count": null,
      "metadata": {
        "id": "n50z_EHFItXW"
      },
      "outputs": [],
      "source": [
        "# plot all three of the features against sales\n",
        "fig, (ax1, ax2, ax3) = plt.subplots(1, 3, figsize=(15, 5))\n",
        "sns.scatterplot(data=df_adv, x='tv', y='sales', ax=ax1)\n",
        "sns.scatterplot(data=df_adv, x='radio', y='sales', ax=ax2)\n",
        "sns.scatterplot(data=df_adv, x='newspaper', y='sales', ax=ax3)\n",
        "plt.show()\n"
      ]
    },
    {
      "cell_type": "markdown",
      "metadata": {
        "id": "zJQ2UEC5ItXW"
      },
      "source": [
        "Next, let's fit a linear regression model using all three variables."
      ]
    },
    {
      "cell_type": "code",
      "execution_count": null,
      "metadata": {
        "id": "nyrGqfmvItXW"
      },
      "outputs": [],
      "source": [
        "lm_adv = smf.ols(formula='sales ~ tv + radio + newspaper', data=df_adv).fit()\n",
        "lm_adv.summary()"
      ]
    },
    {
      "cell_type": "markdown",
      "metadata": {
        "id": "vfJu7AQZItXW"
      },
      "source": [
        "It looks like that model fits pretty well. But, based on the plots you saw above, it looks like there is not an exact linear relationship between `tv` and `sales`...\n",
        "\n",
        "***\n",
        "\n",
        "### Q9: Try fitting a model to this dataset with `radio` and `newspaper` included, but use the square root of `tv`. Then print the summary of the model to see the $R^2$. If you worked for this company, which model do you think you would use? The one above or this new one you created here? Explain why.\n",
        "\n",
        "\\<fix the code cell below to fit the model described above and then input your answer here>\n",
        "\n",
        "***\n",
        "\n",
        "Hints:\n",
        "* Use [this reference](https://www.statsmodels.org/dev/example_formulas.html#functions) to see how to include a function of an independent variable in your model\n",
        "* The function, `np.sqrt( )` is numpy's square root function"
      ]
    },
    {
      "cell_type": "code",
      "execution_count": null,
      "metadata": {
        "id": "pwAi99DgItXW"
      },
      "outputs": [],
      "source": [
        "lm_adv = smf.ols(formula='sales ~ ', data=df_adv).fit()\n",
        "lm_adv.summary()"
      ]
    },
    {
      "cell_type": "markdown",
      "metadata": {
        "id": "sKhpHPunItXX"
      },
      "source": [
        "Nice work completing this notebook. If you didn't already appreciate the power of linear regression, hopefully this helped convince you in some way. Even though we will use lots of other types of models, you will almost always want to start with linear regression because of its simplicity, stability, and flexibility. We'll always want to use the *right model for the task at hand* though, so we probably don't want to be too much like either of the people below :)\n",
        "\n",
        "![Example Image](https://media.licdn.com/dms/image/v2/D4E22AQFLVt8372oIQA/feedshare-shrink_800/feedshare-shrink_800/0/1710511681665?e=1727308800&v=beta&t=XephAeg6t9otHgyXtIHxbYiAxJdKOkH0uP0pU9eP2oY)\n"
      ]
    }
  ],
  "metadata": {
    "kernelspec": {
      "display_name": "Python 3 (ipykernel)",
      "language": "python",
      "name": "python3"
    },
    "language_info": {
      "codemirror_mode": {
        "name": "ipython",
        "version": 3
      },
      "file_extension": ".py",
      "mimetype": "text/x-python",
      "name": "python",
      "nbconvert_exporter": "python",
      "pygments_lexer": "ipython3",
      "version": "3.12.4"
    },
    "toc": {
      "base_numbering": 1,
      "nav_menu": {},
      "number_sections": true,
      "sideBar": true,
      "skip_h1_title": false,
      "title_cell": "Table of Contents",
      "title_sidebar": "Contents",
      "toc_cell": false,
      "toc_position": {},
      "toc_section_display": true,
      "toc_window_display": false
    },
    "colab": {
      "provenance": []
    },
    "widgets": {
      "application/vnd.jupyter.widget-state+json": {
        "c2321879a054480ba357c29916b30e5e": {
          "model_module": "@jupyter-widgets/controls",
          "model_name": "VBoxModel",
          "model_module_version": "1.5.0",
          "state": {
            "_dom_classes": [
              "widget-interact"
            ],
            "_model_module": "@jupyter-widgets/controls",
            "_model_module_version": "1.5.0",
            "_model_name": "VBoxModel",
            "_view_count": null,
            "_view_module": "@jupyter-widgets/controls",
            "_view_module_version": "1.5.0",
            "_view_name": "VBoxView",
            "box_style": "",
            "children": [
              "IPY_MODEL_9bea2df2cbc24335a119de65aa3c8002",
              "IPY_MODEL_411609b0212c48a1a0e5c9cba597649b",
              "IPY_MODEL_5ea571115b0b4b1489a949d7c8c41e81"
            ],
            "layout": "IPY_MODEL_7e33b95152e8413f852e95f7872cd2be"
          }
        },
        "9bea2df2cbc24335a119de65aa3c8002": {
          "model_module": "@jupyter-widgets/controls",
          "model_name": "IntSliderModel",
          "model_module_version": "1.5.0",
          "state": {
            "_dom_classes": [],
            "_model_module": "@jupyter-widgets/controls",
            "_model_module_version": "1.5.0",
            "_model_name": "IntSliderModel",
            "_view_count": null,
            "_view_module": "@jupyter-widgets/controls",
            "_view_module_version": "1.5.0",
            "_view_name": "IntSliderView",
            "continuous_update": true,
            "description": "slope",
            "description_tooltip": null,
            "disabled": false,
            "layout": "IPY_MODEL_2a457f4c6b3244b68e5f58dfeef22694",
            "max": 20,
            "min": -20,
            "orientation": "horizontal",
            "readout": true,
            "readout_format": "d",
            "step": 1,
            "style": "IPY_MODEL_8134521104e14625ac048eb313c2197d",
            "value": -6
          }
        },
        "411609b0212c48a1a0e5c9cba597649b": {
          "model_module": "@jupyter-widgets/controls",
          "model_name": "IntSliderModel",
          "model_module_version": "1.5.0",
          "state": {
            "_dom_classes": [],
            "_model_module": "@jupyter-widgets/controls",
            "_model_module_version": "1.5.0",
            "_model_name": "IntSliderModel",
            "_view_count": null,
            "_view_module": "@jupyter-widgets/controls",
            "_view_module_version": "1.5.0",
            "_view_name": "IntSliderView",
            "continuous_update": true,
            "description": "intercept",
            "description_tooltip": null,
            "disabled": false,
            "layout": "IPY_MODEL_cf9772b6b2924bacbede5d50b72e7ea7",
            "max": 200,
            "min": 0,
            "orientation": "horizontal",
            "readout": true,
            "readout_format": "d",
            "step": 1,
            "style": "IPY_MODEL_f195664be9c84a04898c3613b845d70d",
            "value": 105
          }
        },
        "5ea571115b0b4b1489a949d7c8c41e81": {
          "model_module": "@jupyter-widgets/output",
          "model_name": "OutputModel",
          "model_module_version": "1.0.0",
          "state": {
            "_dom_classes": [],
            "_model_module": "@jupyter-widgets/output",
            "_model_module_version": "1.0.0",
            "_model_name": "OutputModel",
            "_view_count": null,
            "_view_module": "@jupyter-widgets/output",
            "_view_module_version": "1.0.0",
            "_view_name": "OutputView",
            "layout": "IPY_MODEL_df0582e0adac4743bd2b40581810ffb1",
            "msg_id": "",
            "outputs": [
              {
                "output_type": "display_data",
                "data": {
                  "text/plain": "<Figure size 900x600 with 1 Axes>",
                  "image/png": "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\n"
                },
                "metadata": {}
              }
            ]
          }
        },
        "7e33b95152e8413f852e95f7872cd2be": {
          "model_module": "@jupyter-widgets/base",
          "model_name": "LayoutModel",
          "model_module_version": "1.2.0",
          "state": {
            "_model_module": "@jupyter-widgets/base",
            "_model_module_version": "1.2.0",
            "_model_name": "LayoutModel",
            "_view_count": null,
            "_view_module": "@jupyter-widgets/base",
            "_view_module_version": "1.2.0",
            "_view_name": "LayoutView",
            "align_content": null,
            "align_items": null,
            "align_self": null,
            "border": null,
            "bottom": null,
            "display": null,
            "flex": null,
            "flex_flow": null,
            "grid_area": null,
            "grid_auto_columns": null,
            "grid_auto_flow": null,
            "grid_auto_rows": null,
            "grid_column": null,
            "grid_gap": null,
            "grid_row": null,
            "grid_template_areas": null,
            "grid_template_columns": null,
            "grid_template_rows": null,
            "height": null,
            "justify_content": null,
            "justify_items": null,
            "left": null,
            "margin": null,
            "max_height": null,
            "max_width": null,
            "min_height": null,
            "min_width": null,
            "object_fit": null,
            "object_position": null,
            "order": null,
            "overflow": null,
            "overflow_x": null,
            "overflow_y": null,
            "padding": null,
            "right": null,
            "top": null,
            "visibility": null,
            "width": null
          }
        },
        "2a457f4c6b3244b68e5f58dfeef22694": {
          "model_module": "@jupyter-widgets/base",
          "model_name": "LayoutModel",
          "model_module_version": "1.2.0",
          "state": {
            "_model_module": "@jupyter-widgets/base",
            "_model_module_version": "1.2.0",
            "_model_name": "LayoutModel",
            "_view_count": null,
            "_view_module": "@jupyter-widgets/base",
            "_view_module_version": "1.2.0",
            "_view_name": "LayoutView",
            "align_content": null,
            "align_items": null,
            "align_self": null,
            "border": null,
            "bottom": null,
            "display": null,
            "flex": null,
            "flex_flow": null,
            "grid_area": null,
            "grid_auto_columns": null,
            "grid_auto_flow": null,
            "grid_auto_rows": null,
            "grid_column": null,
            "grid_gap": null,
            "grid_row": null,
            "grid_template_areas": null,
            "grid_template_columns": null,
            "grid_template_rows": null,
            "height": null,
            "justify_content": null,
            "justify_items": null,
            "left": null,
            "margin": null,
            "max_height": null,
            "max_width": null,
            "min_height": null,
            "min_width": null,
            "object_fit": null,
            "object_position": null,
            "order": null,
            "overflow": null,
            "overflow_x": null,
            "overflow_y": null,
            "padding": null,
            "right": null,
            "top": null,
            "visibility": null,
            "width": null
          }
        },
        "8134521104e14625ac048eb313c2197d": {
          "model_module": "@jupyter-widgets/controls",
          "model_name": "SliderStyleModel",
          "model_module_version": "1.5.0",
          "state": {
            "_model_module": "@jupyter-widgets/controls",
            "_model_module_version": "1.5.0",
            "_model_name": "SliderStyleModel",
            "_view_count": null,
            "_view_module": "@jupyter-widgets/base",
            "_view_module_version": "1.2.0",
            "_view_name": "StyleView",
            "description_width": "",
            "handle_color": null
          }
        },
        "cf9772b6b2924bacbede5d50b72e7ea7": {
          "model_module": "@jupyter-widgets/base",
          "model_name": "LayoutModel",
          "model_module_version": "1.2.0",
          "state": {
            "_model_module": "@jupyter-widgets/base",
            "_model_module_version": "1.2.0",
            "_model_name": "LayoutModel",
            "_view_count": null,
            "_view_module": "@jupyter-widgets/base",
            "_view_module_version": "1.2.0",
            "_view_name": "LayoutView",
            "align_content": null,
            "align_items": null,
            "align_self": null,
            "border": null,
            "bottom": null,
            "display": null,
            "flex": null,
            "flex_flow": null,
            "grid_area": null,
            "grid_auto_columns": null,
            "grid_auto_flow": null,
            "grid_auto_rows": null,
            "grid_column": null,
            "grid_gap": null,
            "grid_row": null,
            "grid_template_areas": null,
            "grid_template_columns": null,
            "grid_template_rows": null,
            "height": null,
            "justify_content": null,
            "justify_items": null,
            "left": null,
            "margin": null,
            "max_height": null,
            "max_width": null,
            "min_height": null,
            "min_width": null,
            "object_fit": null,
            "object_position": null,
            "order": null,
            "overflow": null,
            "overflow_x": null,
            "overflow_y": null,
            "padding": null,
            "right": null,
            "top": null,
            "visibility": null,
            "width": null
          }
        },
        "f195664be9c84a04898c3613b845d70d": {
          "model_module": "@jupyter-widgets/controls",
          "model_name": "SliderStyleModel",
          "model_module_version": "1.5.0",
          "state": {
            "_model_module": "@jupyter-widgets/controls",
            "_model_module_version": "1.5.0",
            "_model_name": "SliderStyleModel",
            "_view_count": null,
            "_view_module": "@jupyter-widgets/base",
            "_view_module_version": "1.2.0",
            "_view_name": "StyleView",
            "description_width": "",
            "handle_color": null
          }
        },
        "df0582e0adac4743bd2b40581810ffb1": {
          "model_module": "@jupyter-widgets/base",
          "model_name": "LayoutModel",
          "model_module_version": "1.2.0",
          "state": {
            "_model_module": "@jupyter-widgets/base",
            "_model_module_version": "1.2.0",
            "_model_name": "LayoutModel",
            "_view_count": null,
            "_view_module": "@jupyter-widgets/base",
            "_view_module_version": "1.2.0",
            "_view_name": "LayoutView",
            "align_content": null,
            "align_items": null,
            "align_self": null,
            "border": null,
            "bottom": null,
            "display": null,
            "flex": null,
            "flex_flow": null,
            "grid_area": null,
            "grid_auto_columns": null,
            "grid_auto_flow": null,
            "grid_auto_rows": null,
            "grid_column": null,
            "grid_gap": null,
            "grid_row": null,
            "grid_template_areas": null,
            "grid_template_columns": null,
            "grid_template_rows": null,
            "height": null,
            "justify_content": null,
            "justify_items": null,
            "left": null,
            "margin": null,
            "max_height": null,
            "max_width": null,
            "min_height": null,
            "min_width": null,
            "object_fit": null,
            "object_position": null,
            "order": null,
            "overflow": null,
            "overflow_x": null,
            "overflow_y": null,
            "padding": null,
            "right": null,
            "top": null,
            "visibility": null,
            "width": null
          }
        },
        "6fd91c5ad7bd4b0e97fceaf853eb7cf5": {
          "model_module": "@jupyter-widgets/controls",
          "model_name": "VBoxModel",
          "model_module_version": "1.5.0",
          "state": {
            "_dom_classes": [
              "widget-interact"
            ],
            "_model_module": "@jupyter-widgets/controls",
            "_model_module_version": "1.5.0",
            "_model_name": "VBoxModel",
            "_view_count": null,
            "_view_module": "@jupyter-widgets/controls",
            "_view_module_version": "1.5.0",
            "_view_name": "VBoxView",
            "box_style": "",
            "children": [
              "IPY_MODEL_068e95f246c44c9c9a771f55309f4a2a",
              "IPY_MODEL_94a77d15d15b4ba1be20fe7b22acdaf8",
              "IPY_MODEL_150d132ff81341dfaed1781d3c30332c"
            ],
            "layout": "IPY_MODEL_5d4f5d92e9e140b2b417886309e721fe"
          }
        },
        "068e95f246c44c9c9a771f55309f4a2a": {
          "model_module": "@jupyter-widgets/controls",
          "model_name": "IntSliderModel",
          "model_module_version": "1.5.0",
          "state": {
            "_dom_classes": [],
            "_model_module": "@jupyter-widgets/controls",
            "_model_module_version": "1.5.0",
            "_model_name": "IntSliderModel",
            "_view_count": null,
            "_view_module": "@jupyter-widgets/controls",
            "_view_module_version": "1.5.0",
            "_view_name": "IntSliderView",
            "continuous_update": true,
            "description": "slope",
            "description_tooltip": null,
            "disabled": false,
            "layout": "IPY_MODEL_7d4821e04412444db7a577e65ccb2c59",
            "max": 20,
            "min": -20,
            "orientation": "horizontal",
            "readout": true,
            "readout_format": "d",
            "step": 1,
            "style": "IPY_MODEL_fcc6ff41c8c34ba89d72886ac38668fd",
            "value": -6
          }
        },
        "94a77d15d15b4ba1be20fe7b22acdaf8": {
          "model_module": "@jupyter-widgets/controls",
          "model_name": "IntSliderModel",
          "model_module_version": "1.5.0",
          "state": {
            "_dom_classes": [],
            "_model_module": "@jupyter-widgets/controls",
            "_model_module_version": "1.5.0",
            "_model_name": "IntSliderModel",
            "_view_count": null,
            "_view_module": "@jupyter-widgets/controls",
            "_view_module_version": "1.5.0",
            "_view_name": "IntSliderView",
            "continuous_update": true,
            "description": "intercept",
            "description_tooltip": null,
            "disabled": false,
            "layout": "IPY_MODEL_4f8553314a164ea099a8445b3823c200",
            "max": 200,
            "min": 0,
            "orientation": "horizontal",
            "readout": true,
            "readout_format": "d",
            "step": 1,
            "style": "IPY_MODEL_18b4362704454e749452013e86dbdd8d",
            "value": 104
          }
        },
        "150d132ff81341dfaed1781d3c30332c": {
          "model_module": "@jupyter-widgets/output",
          "model_name": "OutputModel",
          "model_module_version": "1.0.0",
          "state": {
            "_dom_classes": [],
            "_model_module": "@jupyter-widgets/output",
            "_model_module_version": "1.0.0",
            "_model_name": "OutputModel",
            "_view_count": null,
            "_view_module": "@jupyter-widgets/output",
            "_view_module_version": "1.0.0",
            "_view_name": "OutputView",
            "layout": "IPY_MODEL_98b2218049eb4ce68db34c761b891cb2",
            "msg_id": "",
            "outputs": [
              {
                "output_type": "display_data",
                "data": {
                  "text/plain": "<Figure size 900x600 with 1 Axes>",
                  "image/png": "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\n"
                },
                "metadata": {}
              }
            ]
          }
        },
        "5d4f5d92e9e140b2b417886309e721fe": {
          "model_module": "@jupyter-widgets/base",
          "model_name": "LayoutModel",
          "model_module_version": "1.2.0",
          "state": {
            "_model_module": "@jupyter-widgets/base",
            "_model_module_version": "1.2.0",
            "_model_name": "LayoutModel",
            "_view_count": null,
            "_view_module": "@jupyter-widgets/base",
            "_view_module_version": "1.2.0",
            "_view_name": "LayoutView",
            "align_content": null,
            "align_items": null,
            "align_self": null,
            "border": null,
            "bottom": null,
            "display": null,
            "flex": null,
            "flex_flow": null,
            "grid_area": null,
            "grid_auto_columns": null,
            "grid_auto_flow": null,
            "grid_auto_rows": null,
            "grid_column": null,
            "grid_gap": null,
            "grid_row": null,
            "grid_template_areas": null,
            "grid_template_columns": null,
            "grid_template_rows": null,
            "height": null,
            "justify_content": null,
            "justify_items": null,
            "left": null,
            "margin": null,
            "max_height": null,
            "max_width": null,
            "min_height": null,
            "min_width": null,
            "object_fit": null,
            "object_position": null,
            "order": null,
            "overflow": null,
            "overflow_x": null,
            "overflow_y": null,
            "padding": null,
            "right": null,
            "top": null,
            "visibility": null,
            "width": null
          }
        },
        "7d4821e04412444db7a577e65ccb2c59": {
          "model_module": "@jupyter-widgets/base",
          "model_name": "LayoutModel",
          "model_module_version": "1.2.0",
          "state": {
            "_model_module": "@jupyter-widgets/base",
            "_model_module_version": "1.2.0",
            "_model_name": "LayoutModel",
            "_view_count": null,
            "_view_module": "@jupyter-widgets/base",
            "_view_module_version": "1.2.0",
            "_view_name": "LayoutView",
            "align_content": null,
            "align_items": null,
            "align_self": null,
            "border": null,
            "bottom": null,
            "display": null,
            "flex": null,
            "flex_flow": null,
            "grid_area": null,
            "grid_auto_columns": null,
            "grid_auto_flow": null,
            "grid_auto_rows": null,
            "grid_column": null,
            "grid_gap": null,
            "grid_row": null,
            "grid_template_areas": null,
            "grid_template_columns": null,
            "grid_template_rows": null,
            "height": null,
            "justify_content": null,
            "justify_items": null,
            "left": null,
            "margin": null,
            "max_height": null,
            "max_width": null,
            "min_height": null,
            "min_width": null,
            "object_fit": null,
            "object_position": null,
            "order": null,
            "overflow": null,
            "overflow_x": null,
            "overflow_y": null,
            "padding": null,
            "right": null,
            "top": null,
            "visibility": null,
            "width": null
          }
        },
        "fcc6ff41c8c34ba89d72886ac38668fd": {
          "model_module": "@jupyter-widgets/controls",
          "model_name": "SliderStyleModel",
          "model_module_version": "1.5.0",
          "state": {
            "_model_module": "@jupyter-widgets/controls",
            "_model_module_version": "1.5.0",
            "_model_name": "SliderStyleModel",
            "_view_count": null,
            "_view_module": "@jupyter-widgets/base",
            "_view_module_version": "1.2.0",
            "_view_name": "StyleView",
            "description_width": "",
            "handle_color": null
          }
        },
        "4f8553314a164ea099a8445b3823c200": {
          "model_module": "@jupyter-widgets/base",
          "model_name": "LayoutModel",
          "model_module_version": "1.2.0",
          "state": {
            "_model_module": "@jupyter-widgets/base",
            "_model_module_version": "1.2.0",
            "_model_name": "LayoutModel",
            "_view_count": null,
            "_view_module": "@jupyter-widgets/base",
            "_view_module_version": "1.2.0",
            "_view_name": "LayoutView",
            "align_content": null,
            "align_items": null,
            "align_self": null,
            "border": null,
            "bottom": null,
            "display": null,
            "flex": null,
            "flex_flow": null,
            "grid_area": null,
            "grid_auto_columns": null,
            "grid_auto_flow": null,
            "grid_auto_rows": null,
            "grid_column": null,
            "grid_gap": null,
            "grid_row": null,
            "grid_template_areas": null,
            "grid_template_columns": null,
            "grid_template_rows": null,
            "height": null,
            "justify_content": null,
            "justify_items": null,
            "left": null,
            "margin": null,
            "max_height": null,
            "max_width": null,
            "min_height": null,
            "min_width": null,
            "object_fit": null,
            "object_position": null,
            "order": null,
            "overflow": null,
            "overflow_x": null,
            "overflow_y": null,
            "padding": null,
            "right": null,
            "top": null,
            "visibility": null,
            "width": null
          }
        },
        "18b4362704454e749452013e86dbdd8d": {
          "model_module": "@jupyter-widgets/controls",
          "model_name": "SliderStyleModel",
          "model_module_version": "1.5.0",
          "state": {
            "_model_module": "@jupyter-widgets/controls",
            "_model_module_version": "1.5.0",
            "_model_name": "SliderStyleModel",
            "_view_count": null,
            "_view_module": "@jupyter-widgets/base",
            "_view_module_version": "1.2.0",
            "_view_name": "StyleView",
            "description_width": "",
            "handle_color": null
          }
        },
        "98b2218049eb4ce68db34c761b891cb2": {
          "model_module": "@jupyter-widgets/base",
          "model_name": "LayoutModel",
          "model_module_version": "1.2.0",
          "state": {
            "_model_module": "@jupyter-widgets/base",
            "_model_module_version": "1.2.0",
            "_model_name": "LayoutModel",
            "_view_count": null,
            "_view_module": "@jupyter-widgets/base",
            "_view_module_version": "1.2.0",
            "_view_name": "LayoutView",
            "align_content": null,
            "align_items": null,
            "align_self": null,
            "border": null,
            "bottom": null,
            "display": null,
            "flex": null,
            "flex_flow": null,
            "grid_area": null,
            "grid_auto_columns": null,
            "grid_auto_flow": null,
            "grid_auto_rows": null,
            "grid_column": null,
            "grid_gap": null,
            "grid_row": null,
            "grid_template_areas": null,
            "grid_template_columns": null,
            "grid_template_rows": null,
            "height": null,
            "justify_content": null,
            "justify_items": null,
            "left": null,
            "margin": null,
            "max_height": null,
            "max_width": null,
            "min_height": null,
            "min_width": null,
            "object_fit": null,
            "object_position": null,
            "order": null,
            "overflow": null,
            "overflow_x": null,
            "overflow_y": null,
            "padding": null,
            "right": null,
            "top": null,
            "visibility": null,
            "width": null
          }
        }
      }
    }
  },
  "nbformat": 4,
  "nbformat_minor": 0
}